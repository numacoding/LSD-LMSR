{
 "cells": [
  {
   "cell_type": "markdown",
   "id": "707af1bd",
   "metadata": {},
   "source": [
    "# EDA - Market Simulation under Rikiddo Scoring Rule\n",
    "\n",
    "This file will present statistical and graphical analyzes of the simulated model for the Rikiddo Scoring Rule. It is important to clarify that these data are preliminary and that its performance will be improved as it is exposed to new markets."
   ]
  },
  {
   "cell_type": "code",
   "execution_count": 137,
   "id": "5aa3663a",
   "metadata": {},
   "outputs": [],
   "source": [
    "import pandas as pd\n",
    "import matplotlib.pyplot as plt"
   ]
  },
  {
   "cell_type": "code",
   "execution_count": 138,
   "id": "749623c7",
   "metadata": {},
   "outputs": [
    {
     "data": {
      "text/html": [
       "<div>\n",
       "<style scoped>\n",
       "    .dataframe tbody tr th:only-of-type {\n",
       "        vertical-align: middle;\n",
       "    }\n",
       "\n",
       "    .dataframe tbody tr th {\n",
       "        vertical-align: top;\n",
       "    }\n",
       "\n",
       "    .dataframe thead th {\n",
       "        text-align: right;\n",
       "    }\n",
       "</style>\n",
       "<table border=\"1\" class=\"dataframe\">\n",
       "  <thead>\n",
       "    <tr style=\"text-align: right;\">\n",
       "      <th></th>\n",
       "      <th>Unnamed: 0</th>\n",
       "      <th>transactionNumber</th>\n",
       "      <th>account_Will</th>\n",
       "      <th>account_Will_not</th>\n",
       "      <th>account_Will_pool</th>\n",
       "      <th>account_Will_not_pool</th>\n",
       "      <th>totalVolume</th>\n",
       "      <th>totalPoolVolume</th>\n",
       "      <th>totalFee</th>\n",
       "      <th>whoBuy</th>\n",
       "      <th>ratioVolume</th>\n",
       "      <th>z</th>\n",
       "      <th>order</th>\n",
       "      <th>transactCost</th>\n",
       "      <th>previousCost</th>\n",
       "      <th>deltaQ</th>\n",
       "      <th>costPerUnit</th>\n",
       "      <th>r</th>\n",
       "      <th>profitCumSum</th>\n",
       "    </tr>\n",
       "  </thead>\n",
       "  <tbody>\n",
       "    <tr>\n",
       "      <th>0</th>\n",
       "      <td>0</td>\n",
       "      <td>0</td>\n",
       "      <td>1000000.000000</td>\n",
       "      <td>1000000.000000</td>\n",
       "      <td>0.000000</td>\n",
       "      <td>0.000000</td>\n",
       "      <td>2.000000e+06</td>\n",
       "      <td>0.000000</td>\n",
       "      <td>0.028854</td>\n",
       "      <td>Initial</td>\n",
       "      <td>1.000000</td>\n",
       "      <td>0.00000</td>\n",
       "      <td>Initial</td>\n",
       "      <td>0.000000e+00</td>\n",
       "      <td>0.000000</td>\n",
       "      <td>0.000000</td>\n",
       "      <td>0.000000e+00</td>\n",
       "      <td>1.000000</td>\n",
       "      <td>0.000000e+00</td>\n",
       "    </tr>\n",
       "    <tr>\n",
       "      <th>1</th>\n",
       "      <td>0</td>\n",
       "      <td>0</td>\n",
       "      <td>1000000.000000</td>\n",
       "      <td>997457.698789</td>\n",
       "      <td>0.000000</td>\n",
       "      <td>2542.301211</td>\n",
       "      <td>1.997458e+06</td>\n",
       "      <td>2542.301211</td>\n",
       "      <td>0.028854</td>\n",
       "      <td>['Will_not']</td>\n",
       "      <td>0.000000</td>\n",
       "      <td>0.00000</td>\n",
       "      <td>buy</td>\n",
       "      <td>NaN</td>\n",
       "      <td>0.000000</td>\n",
       "      <td>2542.301211</td>\n",
       "      <td>NaN</td>\n",
       "      <td>0.000000</td>\n",
       "      <td>NaN</td>\n",
       "    </tr>\n",
       "    <tr>\n",
       "      <th>2</th>\n",
       "      <td>0</td>\n",
       "      <td>1</td>\n",
       "      <td>1000000.000000</td>\n",
       "      <td>995166.374932</td>\n",
       "      <td>0.000000</td>\n",
       "      <td>4833.625068</td>\n",
       "      <td>1.995166e+06</td>\n",
       "      <td>4833.625068</td>\n",
       "      <td>0.032634</td>\n",
       "      <td>['Will_not']</td>\n",
       "      <td>1.000000</td>\n",
       "      <td>0.00378</td>\n",
       "      <td>buy</td>\n",
       "      <td>NaN</td>\n",
       "      <td>NaN</td>\n",
       "      <td>2291.323857</td>\n",
       "      <td>NaN</td>\n",
       "      <td>1.000000</td>\n",
       "      <td>NaN</td>\n",
       "    </tr>\n",
       "    <tr>\n",
       "      <th>3</th>\n",
       "      <td>0</td>\n",
       "      <td>2</td>\n",
       "      <td>999234.792923</td>\n",
       "      <td>995166.374932</td>\n",
       "      <td>765.207077</td>\n",
       "      <td>4833.625068</td>\n",
       "      <td>1.994401e+06</td>\n",
       "      <td>5598.832145</td>\n",
       "      <td>0.032634</td>\n",
       "      <td>['Will']</td>\n",
       "      <td>1.000000</td>\n",
       "      <td>0.00378</td>\n",
       "      <td>buy</td>\n",
       "      <td>9.922587e-10</td>\n",
       "      <td>4833.625068</td>\n",
       "      <td>765.207077</td>\n",
       "      <td>1.296719e-12</td>\n",
       "      <td>1.000000</td>\n",
       "      <td>9.922587e-10</td>\n",
       "    </tr>\n",
       "    <tr>\n",
       "      <th>4</th>\n",
       "      <td>0</td>\n",
       "      <td>3</td>\n",
       "      <td>997748.487662</td>\n",
       "      <td>995166.374932</td>\n",
       "      <td>2251.512338</td>\n",
       "      <td>4833.625068</td>\n",
       "      <td>1.992915e+06</td>\n",
       "      <td>7085.137406</td>\n",
       "      <td>0.034614</td>\n",
       "      <td>['Will']</td>\n",
       "      <td>1.725956</td>\n",
       "      <td>0.00576</td>\n",
       "      <td>['buy']</td>\n",
       "      <td>3.168791e-04</td>\n",
       "      <td>4833.625068</td>\n",
       "      <td>1486.305261</td>\n",
       "      <td>2.131992e-07</td>\n",
       "      <td>1.725956</td>\n",
       "      <td>3.168801e-04</td>\n",
       "    </tr>\n",
       "  </tbody>\n",
       "</table>\n",
       "</div>"
      ],
      "text/plain": [
       "   Unnamed: 0  transactionNumber    account_Will  account_Will_not  \\\n",
       "0           0                  0  1000000.000000    1000000.000000   \n",
       "1           0                  0  1000000.000000     997457.698789   \n",
       "2           0                  1  1000000.000000     995166.374932   \n",
       "3           0                  2   999234.792923     995166.374932   \n",
       "4           0                  3   997748.487662     995166.374932   \n",
       "\n",
       "   account_Will_pool  account_Will_not_pool   totalVolume  totalPoolVolume  \\\n",
       "0           0.000000               0.000000  2.000000e+06         0.000000   \n",
       "1           0.000000            2542.301211  1.997458e+06      2542.301211   \n",
       "2           0.000000            4833.625068  1.995166e+06      4833.625068   \n",
       "3         765.207077            4833.625068  1.994401e+06      5598.832145   \n",
       "4        2251.512338            4833.625068  1.992915e+06      7085.137406   \n",
       "\n",
       "   totalFee        whoBuy  ratioVolume        z    order  transactCost  \\\n",
       "0  0.028854       Initial     1.000000  0.00000  Initial  0.000000e+00   \n",
       "1  0.028854  ['Will_not']     0.000000  0.00000      buy           NaN   \n",
       "2  0.032634  ['Will_not']     1.000000  0.00378      buy           NaN   \n",
       "3  0.032634      ['Will']     1.000000  0.00378      buy  9.922587e-10   \n",
       "4  0.034614      ['Will']     1.725956  0.00576  ['buy']  3.168791e-04   \n",
       "\n",
       "   previousCost       deltaQ   costPerUnit         r  profitCumSum  \n",
       "0      0.000000     0.000000  0.000000e+00  1.000000  0.000000e+00  \n",
       "1      0.000000  2542.301211           NaN  0.000000           NaN  \n",
       "2           NaN  2291.323857           NaN  1.000000           NaN  \n",
       "3   4833.625068   765.207077  1.296719e-12  1.000000  9.922587e-10  \n",
       "4   4833.625068  1486.305261  2.131992e-07  1.725956  3.168801e-04  "
      ]
     },
     "execution_count": 138,
     "metadata": {},
     "output_type": "execute_result"
    }
   ],
   "source": [
    "simulationRecord = pd.read_csv('simulationRecord.csv')\n",
    "simulationRecord.head()"
   ]
  },
  {
   "cell_type": "code",
   "execution_count": 168,
   "id": "21bf55f4",
   "metadata": {},
   "outputs": [
    {
     "name": "stdout",
     "output_type": "stream",
     "text": [
      "This simulation has 1711 successful transactions.\n"
     ]
    }
   ],
   "source": [
    "print(f'This simulation has {simulationRecord.shape[0]} successful transactions.')"
   ]
  },
  {
   "cell_type": "markdown",
   "id": "afff83b3",
   "metadata": {},
   "source": [
    "An important thing to clarify is that there were a lot of transactions that weren't successful because different factors established into the simulation (for example, traders not accepting the fee). After getting a general overview of the dataset, we will analyze the behaviour of the market. First, we'll start with descriptive statistics"
   ]
  },
  {
   "cell_type": "code",
   "execution_count": 140,
   "id": "322fb8e2",
   "metadata": {},
   "outputs": [
    {
     "data": {
      "text/html": [
       "<div>\n",
       "<style scoped>\n",
       "    .dataframe tbody tr th:only-of-type {\n",
       "        vertical-align: middle;\n",
       "    }\n",
       "\n",
       "    .dataframe tbody tr th {\n",
       "        vertical-align: top;\n",
       "    }\n",
       "\n",
       "    .dataframe thead th {\n",
       "        text-align: right;\n",
       "    }\n",
       "</style>\n",
       "<table border=\"1\" class=\"dataframe\">\n",
       "  <thead>\n",
       "    <tr style=\"text-align: right;\">\n",
       "      <th></th>\n",
       "      <th>totalFee</th>\n",
       "      <th>ratioVolume</th>\n",
       "      <th>z</th>\n",
       "      <th>transactCost</th>\n",
       "      <th>previousCost</th>\n",
       "      <th>costPerUnit</th>\n",
       "      <th>deltaQ</th>\n",
       "    </tr>\n",
       "  </thead>\n",
       "  <tbody>\n",
       "    <tr>\n",
       "      <th>count</th>\n",
       "      <td>1711.000000</td>\n",
       "      <td>1711.000000</td>\n",
       "      <td>1711.000000</td>\n",
       "      <td>1.709000e+03</td>\n",
       "      <td>1710.000000</td>\n",
       "      <td>1.709000e+03</td>\n",
       "      <td>1711.000000</td>\n",
       "    </tr>\n",
       "    <tr>\n",
       "      <th>mean</th>\n",
       "      <td>0.032641</td>\n",
       "      <td>1.005428</td>\n",
       "      <td>0.003787</td>\n",
       "      <td>1.513258e+01</td>\n",
       "      <td>27952.101820</td>\n",
       "      <td>1.174437e-02</td>\n",
       "      <td>1515.504678</td>\n",
       "    </tr>\n",
       "    <tr>\n",
       "      <th>std</th>\n",
       "      <td>0.000362</td>\n",
       "      <td>0.109809</td>\n",
       "      <td>0.000362</td>\n",
       "      <td>1.170867e+03</td>\n",
       "      <td>11350.100526</td>\n",
       "      <td>6.836938e-01</td>\n",
       "      <td>865.354423</td>\n",
       "    </tr>\n",
       "    <tr>\n",
       "      <th>min</th>\n",
       "      <td>0.028854</td>\n",
       "      <td>0.000000</td>\n",
       "      <td>0.000000</td>\n",
       "      <td>-2.962775e+03</td>\n",
       "      <td>0.000000</td>\n",
       "      <td>-3.431051e+00</td>\n",
       "      <td>0.000000</td>\n",
       "    </tr>\n",
       "    <tr>\n",
       "      <th>25%</th>\n",
       "      <td>0.032516</td>\n",
       "      <td>0.964090</td>\n",
       "      <td>0.003662</td>\n",
       "      <td>-1.041403e+02</td>\n",
       "      <td>22021.559113</td>\n",
       "      <td>-2.213247e-01</td>\n",
       "      <td>782.895924</td>\n",
       "    </tr>\n",
       "    <tr>\n",
       "      <th>50%</th>\n",
       "      <td>0.032635</td>\n",
       "      <td>1.000451</td>\n",
       "      <td>0.003781</td>\n",
       "      <td>2.546585e-11</td>\n",
       "      <td>28979.491231</td>\n",
       "      <td>3.967992e-14</td>\n",
       "      <td>1535.075128</td>\n",
       "    </tr>\n",
       "    <tr>\n",
       "      <th>75%</th>\n",
       "      <td>0.032754</td>\n",
       "      <td>1.037546</td>\n",
       "      <td>0.003900</td>\n",
       "      <td>2.044111e+02</td>\n",
       "      <td>34509.257510</td>\n",
       "      <td>4.335617e-01</td>\n",
       "      <td>2260.435598</td>\n",
       "    </tr>\n",
       "    <tr>\n",
       "      <th>max</th>\n",
       "      <td>0.034724</td>\n",
       "      <td>1.775953</td>\n",
       "      <td>0.005870</td>\n",
       "      <td>2.996268e+03</td>\n",
       "      <td>58254.131586</td>\n",
       "      <td>1.810153e+00</td>\n",
       "      <td>2996.269551</td>\n",
       "    </tr>\n",
       "  </tbody>\n",
       "</table>\n",
       "</div>"
      ],
      "text/plain": [
       "          totalFee  ratioVolume            z  transactCost  previousCost  \\\n",
       "count  1711.000000  1711.000000  1711.000000  1.709000e+03   1710.000000   \n",
       "mean      0.032641     1.005428     0.003787  1.513258e+01  27952.101820   \n",
       "std       0.000362     0.109809     0.000362  1.170867e+03  11350.100526   \n",
       "min       0.028854     0.000000     0.000000 -2.962775e+03      0.000000   \n",
       "25%       0.032516     0.964090     0.003662 -1.041403e+02  22021.559113   \n",
       "50%       0.032635     1.000451     0.003781  2.546585e-11  28979.491231   \n",
       "75%       0.032754     1.037546     0.003900  2.044111e+02  34509.257510   \n",
       "max       0.034724     1.775953     0.005870  2.996268e+03  58254.131586   \n",
       "\n",
       "        costPerUnit       deltaQ  \n",
       "count  1.709000e+03  1711.000000  \n",
       "mean   1.174437e-02  1515.504678  \n",
       "std    6.836938e-01   865.354423  \n",
       "min   -3.431051e+00     0.000000  \n",
       "25%   -2.213247e-01   782.895924  \n",
       "50%    3.967992e-14  1535.075128  \n",
       "75%    4.335617e-01  2260.435598  \n",
       "max    1.810153e+00  2996.269551  "
      ]
     },
     "execution_count": 140,
     "metadata": {},
     "output_type": "execute_result"
    }
   ],
   "source": [
    "descriptiveStats= simulationRecord[['totalFee', 'ratioVolume', 'z', 'transactCost', 'previousCost', 'costPerUnit', 'deltaQ']].describe()\n",
    "descriptiveStats"
   ]
  },
  {
   "cell_type": "code",
   "execution_count": 143,
   "id": "8db9e68b",
   "metadata": {},
   "outputs": [
    {
     "name": "stdout",
     "output_type": "stream",
     "text": [
      "The maximum gap of totalFee is 0.0058698333623841, and the interquartile range is 0.00023817932567310462\n",
      "The maximum gap of ratioVolume is 1.7759528321751947, and the interquartile range is 0.07345595422273865\n",
      "The maximum gap of z is 0.005869833362384, and the interquartile range is 0.00023817932567304998\n",
      "The maximum gap of transactCost is 5959.043158598724, and the interquartile range is 308.55138200810325\n",
      "The maximum gap of previousCost is 58254.1315855772, and the interquartile range is 12487.698397307922\n",
      "The maximum gap of costPerUnit is 5.241203497886401, and the interquartile range is 0.6548864080197845\n",
      "The maximum gap of deltaQ is 2996.269550617818, and the interquartile range is 1477.5396743566325\n"
     ]
    }
   ],
   "source": [
    "for col in descriptiveStats.columns:\n",
    "    maxGap = (descriptiveStats.loc['max',col]-descriptiveStats.loc['min',col])\n",
    "    iqGap = (descriptiveStats.loc['75%',col]-descriptiveStats.loc['25%',col])\n",
    "\n",
    "    print(f'The maximum gap of {col} is {maxGap}, and the interquartile range is {iqGap}')"
   ]
  },
  {
   "cell_type": "markdown",
   "id": "7f656a95",
   "metadata": {},
   "source": [
    "For most cases (except for deltaQ, which corresponds to the amount willing to buy or sell per iteration), we find an interquartile range considerably lower than the total range of each field. This indicates that, although there are outliers, **the model has managed to keep the results within a limited range**."
   ]
  },
  {
   "cell_type": "code",
   "execution_count": 144,
   "id": "b30ae1c8",
   "metadata": {},
   "outputs": [
    {
     "data": {
      "image/png": "[encoded data removed]",
      "text/plain": [
       "<Figure size 432x288 with 1 Axes>"
      ]
     },
     "metadata": {
      "needs_background": "light"
     },
     "output_type": "display_data"
    }
   ],
   "source": [
    "plt.scatter(simulationRecord['totalFee'], simulationRecord['transactCost'])\n",
    "plt.axvline(simulationRecord['totalFee'].mean(), color='r', linestyle='-')\n",
    "plt.title('Transaction Cost vs. Total fee')\n",
    "plt.xlabel('Total Fee')\n",
    "plt.ylabel('Transaction Cost')\n",
    "plt.show()"
   ]
  },
  {
   "cell_type": "code",
   "execution_count": 145,
   "id": "4fcb55df",
   "metadata": {},
   "outputs": [
    {
     "data": {
      "image/png": "[encoded data removed]",
      "text/plain": [
       "<Figure size 432x288 with 1 Axes>"
      ]
     },
     "metadata": {
      "needs_background": "light"
     },
     "output_type": "display_data"
    }
   ],
   "source": [
    "plt.scatter(simulationRecord['z'], simulationRecord['transactCost'])\n",
    "plt.axvline(simulationRecord['z'].mean(), color='r', linestyle='-')\n",
    "plt.title('Transaction Cost vs. Dynamic Fee')\n",
    "plt.xlabel('Dynamic Fee')\n",
    "plt.ylabel('Transaction Cost')\n",
    "plt.show()"
   ]
  },
  {
   "cell_type": "code",
   "execution_count": 146,
   "id": "8ee7a010",
   "metadata": {},
   "outputs": [
    {
     "data": {
      "image/png": "[encoded data removed]",
      "text/plain": [
       "<Figure size 432x288 with 1 Axes>"
      ]
     },
     "metadata": {
      "needs_background": "light"
     },
     "output_type": "display_data"
    }
   ],
   "source": [
    "plt.scatter(simulationRecord['r'], simulationRecord['totalFee'])\n",
    "plt.axhline(simulationRecord['totalFee'].mean(), color='r', linestyle='-')\n",
    "plt.title('Total fee vs. Moving Average ratio')\n",
    "plt.xlabel('r')\n",
    "plt.ylabel('Total Fee')\n",
    "plt.show()"
   ]
  },
  {
   "cell_type": "code",
   "execution_count": 166,
   "id": "f927b1a5",
   "metadata": {},
   "outputs": [
    {
     "data": {
      "image/png": "[encoded data removed]",
      "text/plain": [
       "<Figure size 432x288 with 1 Axes>"
      ]
     },
     "metadata": {
      "needs_background": "light"
     },
     "output_type": "display_data"
    }
   ],
   "source": [
    "plt.scatter(simulationRecord['costPerUnit'], simulationRecord['totalFee'])\n",
    "plt.title('Total fee vs. Unit Cost (Price)')\n",
    "plt.xlabel('Unit Cost')\n",
    "plt.ylabel('Total Fee')\n",
    "plt.show()"
   ]
  },
  {
   "cell_type": "markdown",
   "id": "4c65dd82",
   "metadata": {},
   "source": [
    "As we can see, the market still has imperfections, noting the observations that are outside the [-1,1] interval. This is something that using the model for a longer period can correct."
   ]
  },
  {
   "cell_type": "code",
   "execution_count": 160,
   "id": "f81e0ebf",
   "metadata": {
    "scrolled": true
   },
   "outputs": [
    {
     "name": "stdout",
     "output_type": "stream",
     "text": [
      "Transaction Cost for sellers (Median): -123.34015898279176\n",
      "Transaction Cost for buyers (Median): 180.26199556036045\n",
      "Price paid for sellers (Median): -0.2902955407249031\n",
      "Price paid for buyers (Median): 0.32458666679174486\n"
     ]
    }
   ],
   "source": [
    "medNegTx = simulationRecord[simulationRecord['transactCost']<0]['transactCost'].median()\n",
    "medPosTx = simulationRecord[simulationRecord['transactCost']>=0]['transactCost'].median()\n",
    "medNegTxUnit = simulationRecord[simulationRecord['costPerUnit']<0]['costPerUnit'].median()\n",
    "medPosTxUnit = simulationRecord[simulationRecord['costPerUnit']>=0]['costPerUnit'].median()\n",
    "print(f'Transaction Cost for sellers (Median): {medNegTx}')\n",
    "print(f'Transaction Cost for buyers (Median): {medPosTx}')\n",
    "print(f'Price paid for sellers (Median): {medNegTxUnit}')\n",
    "print(f'Price paid for buyers (Median): {medPosTxUnit}')\n"
   ]
  },
  {
   "cell_type": "code",
   "execution_count": 167,
   "id": "2f8e48db",
   "metadata": {
    "scrolled": true
   },
   "outputs": [
    {
     "name": "stdout",
     "output_type": "stream",
     "text": [
      "Amount of transactions with negative Cost: 839\n",
      "Amount of transactions with non-negative Cost: 870\n",
      "Net result of the market: 25861.572337311216\n",
      "Net result of the market (measured by unit): 20.07113653782647\n"
     ]
    }
   ],
   "source": [
    "negatives = simulationRecord[simulationRecord['transactCost']<0].reset_index(drop=True).shape[0]\n",
    "nonnegatives = simulationRecord[simulationRecord['transactCost']>=0].reset_index(drop=True).shape[0]\n",
    "netresult = simulationRecord['transactCost'].sum()\n",
    "netUnitResult = simulationRecord['costPerUnit'].sum()\n",
    "\n",
    "print(f'Amount of transactions with negative Cost: {negatives}')\n",
    "print(f'Amount of transactions with non-negative Cost: {nonnegatives}')\n",
    "print(f'Net result of the market: {netresult}')\n",
    "print(f'Net result of the market (measured by unit): {netUnitResult}')"
   ]
  },
  {
   "cell_type": "markdown",
   "id": "d409edf5",
   "metadata": {},
   "source": [
    "Through these last calculations, we can observe that the final result of the market is positive, which represents an attractive indicator for individuals interested in becoming Liquidity Providers of the market or of the platform."
   ]
  },
  {
   "cell_type": "code",
   "execution_count": null,
   "id": "f3b9473f",
   "metadata": {},
   "outputs": [],
   "source": []
  }
 ],
 "metadata": {
  "kernelspec": {
   "display_name": "Python 3",
   "language": "python",
   "name": "python3"
  },
  "language_info": {
   "codemirror_mode": {
    "name": "ipython",
    "version": 3
   },
   "file_extension": ".py",
   "mimetype": "text/x-python",
   "name": "python",
   "nbconvert_exporter": "python",
   "pygments_lexer": "ipython3",
   "version": "3.8.8"
  }
 },
 "nbformat": 4,
 "nbformat_minor": 5
}
